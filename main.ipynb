{
 "cells": [
  {
   "cell_type": "code",
   "execution_count": 1,
   "metadata": {},
   "outputs": [],
   "source": [
    "import os\n",
    "import io\n",
    "import getpass\n",
    "from dotenv import load_dotenv \n",
    "from langchain_community.document_loaders import YoutubeLoader\n",
    "from langchain_community.llms import HuggingFaceHub\n",
    "from langchain_core.prompts import ChatPromptTemplate\n",
    "from langchain_core.output_parsers import StrOutputParser\n",
    "from IPython.display import Markdown"
   ]
  },
  {
   "cell_type": "code",
   "execution_count": 2,
   "metadata": {},
   "outputs": [
    {
     "data": {
      "text/plain": [
       "True"
      ]
     },
     "execution_count": 2,
     "metadata": {},
     "output_type": "execute_result"
    }
   ],
   "source": [
    "load_dotenv()"
   ]
  },
  {
   "cell_type": "code",
   "execution_count": 3,
   "metadata": {},
   "outputs": [],
   "source": [
    "def llm_chain():\n",
    "    system_prompt = \"Você é um assistente virtual prestativo e deve responder a uma consulta com base na transcrição de um vídeo, que será fornecida abaixo.\"\n",
    "\n",
    "    inputs = \"Consulta: {consulta} \\n Transcrição: {transcricao}\"\n",
    "\n",
    "    user_prompt = \"<|begin_of_text|><|start_header_id|>user<|end_header_id|>\\n{}<|eot_id|><|start_header_id|>assistant<|end_header_id|>\".format(\n",
    "        inputs\n",
    "    )\n",
    "\n",
    "    prompt_template = ChatPromptTemplate.from_messages(\n",
    "        [\n",
    "            (\"system\", system_prompt),\n",
    "            (\"user\", user_prompt),\n",
    "        ]\n",
    "    )\n",
    "\n",
    "    llm = HuggingFaceHub(\n",
    "        repo_id=\"meta-llama/Meta-Llama-3-8B-Instruct\",\n",
    "        model_kwargs={\n",
    "            \"temperature\": 0.1,\n",
    "            \"return_full_text\": False,\n",
    "            \"max_new_tokens\": 1024,\n",
    "        },\n",
    "    )\n",
    "\n",
    "    chain = prompt_template | llm | StrOutputParser()\n",
    "\n",
    "    return chain"
   ]
  },
  {
   "cell_type": "code",
   "execution_count": 4,
   "metadata": {},
   "outputs": [],
   "source": [
    "def get_video_info(url_video, language=\"pt\", translation=None):\n",
    "    video_loader = YoutubeLoader.from_youtube_url(\n",
    "        url_video,\n",
    "        language=language,\n",
    "        translation=translation,\n",
    "    )\n",
    "\n",
    "    infos = video_loader.load()[0]\n",
    "    transcript = infos.page_content\n",
    "    metadata = infos.metadata\n",
    "\n",
    "    return transcript, metadata"
   ]
  },
  {
   "cell_type": "code",
   "execution_count": 5,
   "metadata": {},
   "outputs": [],
   "source": [
    "def interpret_video(url, query=\"resuma\", language=\"pt\", translation=None):\n",
    "    try:\n",
    "        transcript, metadata = get_video_info(url, language, translation)\n",
    "\n",
    "        chain = llm_chain()\n",
    "\n",
    "        retorno = \"\"\n",
    "\n",
    "        t = \"\\n## Sobre o que fala o vídeo \\n\"\n",
    "        res = chain.invoke({\"transcricao\": transcript, \"consulta\": \"explique em 1 frase sobre o que fala esse vídeo. responda direto com a frase\"})\n",
    "        retorno += t + res\n",
    "\n",
    "        t = \"\\n## Temas \\n\"\n",
    "        res = chain.invoke({\"transcricao\": transcript, \"consulta\": \"lista os principais temas desse vídeo\"})\n",
    "        retorno += t + res\n",
    "\n",
    "        t = \"\\n## Resposta para a consulta \\n\"\n",
    "        res = chain.invoke({\"transcricao\": transcript, \"consulta\": query})\n",
    "        retorno += t + res\n",
    "\n",
    "        return retorno\n",
    "    except Exception as e:\n",
    "        print(\"Erro ao carregar transcrição\")\n",
    "        print(e)"
   ]
  },
  {
   "cell_type": "code",
   "execution_count": 6,
   "metadata": {},
   "outputs": [],
   "source": [
    "url_video = \"https://www.youtube.com/watch?v=OLglLItPzbs\"\n",
    "query_user = \"resuma\"\n",
    "language = [\"pt\", \"pt-BR\", \"en\"]"
   ]
  },
  {
   "cell_type": "code",
   "execution_count": 7,
   "metadata": {},
   "outputs": [
    {
     "name": "stderr",
     "output_type": "stream",
     "text": [
      "C:\\Users\\genesis\\AppData\\Local\\Temp\\ipykernel_11496\\1486766283.py:17: LangChainDeprecationWarning: The class `HuggingFaceHub` was deprecated in LangChain 0.0.21 and will be removed in 1.0. An updated version of the class exists in the :class:`~langchain-huggingface package and should be used instead. To use it run `pip install -U :class:`~langchain-huggingface` and import as `from :class:`~langchain_huggingface import HuggingFaceEndpoint``.\n",
      "  llm = HuggingFaceHub(\n",
      "c:\\Users\\genesis\\projetos\\video_transcription\\.venv\\Lib\\site-packages\\tqdm\\auto.py:21: TqdmWarning: IProgress not found. Please update jupyter and ipywidgets. See https://ipywidgets.readthedocs.io/en/stable/user_install.html\n",
      "  from .autonotebook import tqdm as notebook_tqdm\n"
     ]
    }
   ],
   "source": [
    "video_infos = interpret_video(url_video, query_user, language)"
   ]
  },
  {
   "cell_type": "code",
   "execution_count": 8,
   "metadata": {},
   "outputs": [],
   "source": [
    "with open(\"resumo.md\", \"w\", encoding=\"utf-8\") as f:\n",
    "    f.write(str(video_infos))"
   ]
  }
 ],
 "metadata": {
  "kernelspec": {
   "display_name": ".venv",
   "language": "python",
   "name": "python3"
  },
  "language_info": {
   "codemirror_mode": {
    "name": "ipython",
    "version": 3
   },
   "file_extension": ".py",
   "mimetype": "text/x-python",
   "name": "python",
   "nbconvert_exporter": "python",
   "pygments_lexer": "ipython3",
   "version": "3.12.7"
  }
 },
 "nbformat": 4,
 "nbformat_minor": 2
}
